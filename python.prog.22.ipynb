{
 "cells": [
  {
   "cell_type": "markdown",
   "id": "bcc4e082",
   "metadata": {},
   "source": [
    "# Q1 Create a function that takes three parameters where:\n",
    "#  x is the start of the range (inclusive).\n",
    "#  y is the end of the range (inclusive).\n",
    "#  n is the divisor to be checked against.\n",
    "# Return an ordered list with numbers in the range that are divisible by the third parameter n.\n",
    "# Return an empty list if there are no numbers that are divisible by n.\n",
    "# Examples\n",
    "# list_operation(1, 10, 3) ➞ [3, 6, 9]\n",
    "# list_operation(7, 9, 2) ➞ [8]\n",
    "# list_operation(15, 20, 7) ➞ []"
   ]
  },
  {
   "cell_type": "code",
   "execution_count": null,
   "id": "d9b5fd1a",
   "metadata": {},
   "outputs": [],
   "source": [
    "To create a function that takes three parameters, x, y, and n, and returns an ordered list of numbers within the range [x, y] that are divisible by n, you can use list comprehension to iterate over the range and filter out the numbers that satisfy the divisibility condition.\n",
    "\n",
    "Here's the implementation of the list_operation function:\n",
    "def list_operation(x, y, n):\n",
    "    return [num for num in range(x, y+1) if num % n == 0]\n",
    "\n",
    "print(list_operation(1, 10, 3))\n",
    "# Output: [3, 6, 9]\n",
    "\n",
    "print(list_operation(7, 9, 2))\n",
    "# Output: [8]\n",
    "\n",
    "print(list_operation(15, 20, 7))\n",
    "# Output: []\n"
   ]
  },
  {
   "cell_type": "markdown",
   "id": "7ad40b0b",
   "metadata": {},
   "source": [
    "# Q2 Create a function that takes in two lists and returns True if the second list follows the first list by one element, and False otherwise. In other words, determine if the second list is the first\n",
    "# list shifted to the right by 1.\n",
    "# Examples\n",
    "# simon_says([1, 2], [5, 1]) ➞ True\n",
    "# simon_says([1, 2], [5, 5]) ➞ False\n",
    "# simon_says([1, 2, 3, 4, 5], [0, 1, 2, 3, 4]) ➞ True\n",
    "# simon_says([1, 2, 3, 4, 5], [5, 5, 1, 2, 3]) ➞ False\n",
    "# Notes\n",
    "# * Both input lists will be of the same length, and will have a minimum length of 2.\n",
    "# * The values of the 0-indexed element in the second list and the n-1th indexed element in the first list do not matter."
   ]
  },
  {
   "cell_type": "code",
   "execution_count": null,
   "id": "88f956a0",
   "metadata": {},
   "outputs": [],
   "source": [
    "To create a function simon_says that takes in two lists and determines if the second list follows the first list by one element, you can compare the second list with a sliced version of the first list, excluding the last element.\n",
    "\n",
    "Here's the implementation of the simon_says function:\n",
    "def simon_says(list1, list2):\n",
    "    return list1[:-1] == list2[1:]\n",
    "Let's test the function with the provided examples:\n",
    "print(simon_says([1, 2], [5, 1]))\n",
    "# Output: True\n",
    "\n",
    "print(simon_says([1, 2], [5, 5]))\n",
    "# Output: False\n",
    "\n",
    "print(simon_says([1, 2, 3, 4, 5], [0, 1, 2, 3, 4]))\n",
    "# Output: True\n",
    "\n",
    "print(simon_says([1, 2, 3, 4, 5], [5, 5, 1, 2, 3]))\n",
    "# Output: False\n"
   ]
  },
  {
   "cell_type": "markdown",
   "id": "7c0df2bf",
   "metadata": {},
   "source": [
    "# Q3 A group of friends have decided to start a secret society. The name will be the first letter of each of their names, sorted in alphabetical order.\n",
    "# Create a function that takes in a list of names and returns the name of the secret society.\n",
    "# Examples\n",
    "# society_name([&quot;Adam&quot;, &quot;Sarah&quot;, &quot;Malcolm&quot;]) ➞ &quot;AMS&quot;\n",
    "# society_name([&quot;Harry&quot;, &quot;Newt&quot;, &quot;Luna&quot;, &quot;Cho&quot;]) ➞ &quot;CHLN&quot;\n",
    "#society_name([&quot;Phoebe&quot;, &quot;Chandler&quot;, &quot;Rachel&quot;, &quot;Ross&quot;, &quot;Monica&quot;, &quot;Joey&quot;])"
   ]
  },
  {
   "cell_type": "code",
   "execution_count": null,
   "id": "4ef9e856",
   "metadata": {},
   "outputs": [],
   "source": [
    "To create a function society_name that takes in a list of names and returns the name of the secret society, which is formed by taking the first letter of each name and sorting them in alphabetical order, you can use list comprehension to extract the first letter of each name, sort them, and join them into a string.\n",
    "\n",
    "Here's the implementation of the society_name function:\n",
    "def society_name(names):\n",
    "    return ''.join(sorted([name[0] for name in names]))\n",
    "\n",
    "Let's test the function with the provided examples:\n",
    "print(society_name([\"Adam\", \"Sarah\", \"Malcolm\"]))\n",
    "# Output: \"AMS\"\n",
    "\n",
    "print(society_name([\"Harry\", \"Newt\", \"Luna\", \"Cho\"]))\n",
    "# Output: \"CHLN\"\n",
    "\n",
    "print(society_name([\"Phoebe\", \"Chandler\", \"Rachel\", \"Ross\", \"Monica\", \"Joey\"]))\n",
    "# Output: \"CCJMPR\"\n"
   ]
  },
  {
   "cell_type": "markdown",
   "id": "5a5e23b5",
   "metadata": {},
   "source": [
    "# Q4 An isogram is a word that has no duplicate letters. Create a function that takes a string and returns either True or False depending on whether or not it&#39;s an &quot;isogram&quot;.\n",
    "# Examples\n",
    "# is_isogram(&quot;Algorism&quot;) ➞ True\n",
    "# is_isogram(&quot;PasSword&quot;) ➞ False\n",
    "# # Not case sensitive.\n",
    "# is_isogram(&quot;Consecutive&quot;) ➞ False\n",
    "# Notes\n",
    "# * Ignore letter case (should not be case sensitive).\n",
    "# * All test cases contain valid one word strings."
   ]
  },
  {
   "cell_type": "code",
   "execution_count": null,
   "id": "e9242e70",
   "metadata": {},
   "outputs": [],
   "source": [
    "To create a function is_isogram that takes a string and determines whether or not it is an \"isogram\" (a word that has no duplicate letters), you can convert the string to lowercase and check if the length of the set of characters in the string is equal to the length of the string itself.\n",
    "\n",
    "Here's the implementation of the is_isogram function:\n",
    "def is_isogram(string):\n",
    "    lowercase_string = string.lower()\n",
    "    return len(set(lowercase_string)) == len(lowercase_string)\n",
    "\n",
    "Let's test the function with the provided examples:\n",
    "print(is_isogram(\"Algorism\"))\n",
    "# Output: True\n",
    "\n",
    "print(is_isogram(\"PasSword\"))\n",
    "# Output: False\n",
    "\n",
    "print(is_isogram(\"Consecutive\"))\n",
    "# Output: False\n"
   ]
  },
  {
   "cell_type": "markdown",
   "id": "c5dc478c",
   "metadata": {},
   "source": [
    "# Q5 Create a function that takes a string and returns True or False, depending on whether the\n",
    "# characters are in order or not.\n",
    "# Examples\n",
    "# is_in_order(&quot;abc&quot;) ➞ True\n",
    "# is_in_order(&quot;edabit&quot;) ➞ False\n",
    "# is_in_order(&quot;123&quot;) ➞ True\n",
    "# is_in_order(&quot;xyzz&quot;) ➞ True\n",
    "# Notes\n",
    "# You don&#39;t have to handle empty strings."
   ]
  },
  {
   "cell_type": "code",
   "execution_count": null,
   "id": "0a74e903",
   "metadata": {},
   "outputs": [],
   "source": [
    "To create a function is_in_order that takes a string and determines whether the characters are in order or not, you can iterate over the string and compare each character with the next one. If any character is greater than the next character in the ASCII value, it means the characters are not in order, and the function returns False. Otherwise, if the loop completes without finding any out-of-order characters, the function returns True.\n",
    "\n",
    "Here's the implementation of the is_in_order function:\n",
    "def is_in_order(string):\n",
    "    for i in range(len(string) - 1):\n",
    "        if string[i] > string[i + 1]:\n",
    "            return False\n",
    "    return True\n",
    "Let's test the function with the provided examples:\n",
    "\n",
    "print(is_in_order(\"abc\"))\n",
    "# Output: True\n",
    "\n",
    "print(is_in_order(\"edabit\"))\n",
    "# Output: False\n",
    "\n",
    "print(is_in_order(\"123\"))\n",
    "# Output: True\n",
    "\n",
    "print(is_in_order(\"xyzz\"))\n",
    "# Output: True\n"
   ]
  }
 ],
 "metadata": {
  "kernelspec": {
   "display_name": "Python 3 (ipykernel)",
   "language": "python",
   "name": "python3"
  },
  "language_info": {
   "codemirror_mode": {
    "name": "ipython",
    "version": 3
   },
   "file_extension": ".py",
   "mimetype": "text/x-python",
   "name": "python",
   "nbconvert_exporter": "python",
   "pygments_lexer": "ipython3",
   "version": "3.9.12"
  }
 },
 "nbformat": 4,
 "nbformat_minor": 5
}
